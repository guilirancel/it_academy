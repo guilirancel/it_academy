{
 "cells": [
  {
   "cell_type": "markdown",
   "id": "1a17a9a0",
   "metadata": {},
   "source": [
    "Exercici 1\n",
    "L'exercici consisteix a crear un programa que et classifiqui una variable numèrica en funció de l’escala Suspès/Aprovat/Notable/Excel·lent.\n",
    "\n",
    "Recorda que Suspès < 5, Aprovat > 5 i < 7, Notable > 7 i < 9 i Excel·lent > 9."
   ]
  },
  {
   "cell_type": "code",
   "execution_count": 11,
   "id": "3f1a9c43",
   "metadata": {},
   "outputs": [
    {
     "name": "stdout",
     "output_type": "stream",
     "text": [
      "You have failed with grade 3\n",
      "You have failed with grade 4\n",
      "You have passed with grade:  7\n",
      "You have passed with grade:  6\n",
      "The grade is a notable with grade:  8\n",
      "You have failed with grade 4\n"
     ]
    }
   ],
   "source": [
    "nota = [3,4,7,6,8,4]\n",
    "for i in nota:\n",
    "    if i < 5 :\n",
    "        print(\"You have failed with grade\" , i)\n",
    "    elif i >= 5 and i <= 7:\n",
    "        print(\"You have passed with grade: \", i)\n",
    "    elif i > 7 and i < 9:\n",
    "        print(\"The grade is a notable with grade: \", i)\n",
    "    elif i >= 9:\n",
    "        print(\"You have an excelent with grade:\", i)\n",
    "    else:\n",
    "        print(\" The number must be grater than 0\")\n"
   ]
  },
  {
   "cell_type": "markdown",
   "id": "75d2e55b",
   "metadata": {},
   "source": [
    "Exercici 2\n",
    "Utilitzant el següent tutorial crea un programa que et pregunti dos números. T’ha de mostrar un missatge dient si el primer és més gran, el segon és més gran o són iguals"
   ]
  },
  {
   "cell_type": "code",
   "execution_count": 19,
   "id": "20c48202",
   "metadata": {},
   "outputs": [
    {
     "name": "stdout",
     "output_type": "stream",
     "text": [
      "Enter your number: 2\n",
      "Enter a number: 3\n",
      "The number  3 is greater than  2\n"
     ]
    }
   ],
   "source": [
    "num1 = int(input(\"Enter your number: \"))\n",
    "num2 = int(input(\"Enter a number: \"))\n",
    "\n",
    "if num1 > num2:\n",
    "    print(\"The number \", num1, \"is greater than \", num2)\n",
    "elif num2 > num1:\n",
    "    print(\"The number \", num2, \"is greater than \", num1)\n",
    "elif num1 == num2:\n",
    "    print(\"The two numbers are the same.\")\n"
   ]
  },
  {
   "cell_type": "markdown",
   "id": "33f85dcd",
   "metadata": {},
   "source": [
    "Exercici 3\n",
    "Crea un programa que et pregunti el teu nom, i et demani un número. Si el número és 0, hauria de mostrar un missatge d’error. En cas contrari, hauria de mostrar el nom repetit tants cops com indiqui el número. Per exemple, “Joan Joan Joan”"
   ]
  },
  {
   "cell_type": "code",
   "execution_count": 18,
   "id": "22dc386c",
   "metadata": {},
   "outputs": [
    {
     "name": "stdout",
     "output_type": "stream",
     "text": [
      "Enter your name: guili\n",
      "Enter a number: 5\n",
      "guili guili guili guili guili \n"
     ]
    }
   ],
   "source": [
    "nom = input(\"Enter your name: \")\n",
    "num = int(input(\"Enter a number: \"))\n",
    "\n",
    "if num == 0:\n",
    "    print(\"ERROR\")\n",
    "elif num > 0: #num > 0\n",
    "    print((nom + \" \")* num )\n",
    "else: #num < 0\n",
    "    print(\"Your number must be greater than 0\")\n",
    "    \n",
    "    "
   ]
  },
  {
   "cell_type": "markdown",
   "id": "0f53849d",
   "metadata": {},
   "source": [
    "Exercici 4\n",
    "Crea un programa que donada una llista qualsevol, et digui si és simètrica o no. Si ho és, que et digui quants elements té."
   ]
  },
  {
   "cell_type": "code",
   "execution_count": 12,
   "id": "10cd370e",
   "metadata": {},
   "outputs": [
    {
     "name": "stdout",
     "output_type": "stream",
     "text": [
      "The number  0  is symmetric\n",
      "The number  1  is not symmetric\n",
      "The number  2  is symmetric\n",
      "The number  3  is not symmetric\n",
      "The number  4  is symmetric\n"
     ]
    }
   ],
   "source": [
    "import random \n",
    "ran_list = random.randint(0,9)\n",
    "for i in range(ran_list):\n",
    "    if i%2 == 0:\n",
    "        print(\"The number \", i, \" is symmetric\")\n",
    "    else:\n",
    "        print(\"The number \", i, \" is not symmetric\")\n",
    "    "
   ]
  },
  {
   "cell_type": "markdown",
   "id": "2ec3de93",
   "metadata": {},
   "source": [
    "Exercici 5\n",
    "Crea un programa que donada una llista, et digui quants números coincideixen amb la seva posició. Per exemple [3,4,2,0,2,3,6] el 2 i el 6 coincideixen."
   ]
  },
  {
   "cell_type": "code",
   "execution_count": 43,
   "id": "03db559b",
   "metadata": {},
   "outputs": [
    {
     "name": "stdout",
     "output_type": "stream",
     "text": [
      "The num  2  has the same position  2\n",
      "The num  2  has the same position  2\n",
      "The num  6  has the same position  6\n"
     ]
    }
   ],
   "source": [
    "list_ex = [3,4,2,0,2,3,6]\n",
    "\n",
    "for i in list_ex:\n",
    "    pos = list_ex.index(i)\n",
    "    if i == pos:\n",
    "        print(\"The num \", i, \" has the same position \", pos)\n",
    "        \n"
   ]
  }
 ],
 "metadata": {
  "kernelspec": {
   "display_name": "Python 3",
   "language": "python",
   "name": "python3"
  },
  "language_info": {
   "codemirror_mode": {
    "name": "ipython",
    "version": 3
   },
   "file_extension": ".py",
   "mimetype": "text/x-python",
   "name": "python",
   "nbconvert_exporter": "python",
   "pygments_lexer": "ipython3",
   "version": "3.8.8"
  }
 },
 "nbformat": 4,
 "nbformat_minor": 5
}
