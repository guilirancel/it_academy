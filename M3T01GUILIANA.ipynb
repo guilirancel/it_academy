{
 "cells": [
  {
   "cell_type": "markdown",
   "id": "611d0d11",
   "metadata": {},
   "source": [
    "Exercici 1\n",
    "Crea una funció que donat un Array d’una dimensió, et faci un resum estadístic bàsic de les dades. Si detecta que l’array té més d’una dimensió, ha de mostrar un missatge d’error.\n",
    "\n"
   ]
  },
  {
   "cell_type": "code",
   "execution_count": 23,
   "id": "3ea26770",
   "metadata": {},
   "outputs": [
    {
     "data": {
      "text/plain": [
       "False"
      ]
     },
     "execution_count": 23,
     "metadata": {},
     "output_type": "execute_result"
    }
   ],
   "source": [
    "import numpy as np\n",
    "def calcular(arr):\n",
    "    for i in arr :\n",
    "        if isinstance(i, list):\n",
    "            return True\n",
    "        else:\n",
    "            return False\n",
    "    return True\n",
    "a =np.array([1,2,3])\n",
    "b = np.array([4,5])\n",
    "\n",
    "#calcular(a)\n",
    "#calcular(b)\n",
    "calcular(a)"
   ]
  },
  {
   "cell_type": "code",
   "execution_count": 74,
   "id": "4192d760",
   "metadata": {},
   "outputs": [],
   "source": [
    "def compute(arr):\n",
    "    x = np.array(arr)   # if the user introduces a list we convert it into an array \n",
    "    dim = x.ndim   # we can see the number of dimentions \n",
    "    if dim > 1:\n",
    "        return \"There is a mistake, the dimention should be one and you have \" + str(dim) + \" dimentions\"\n",
    "    else:\n",
    "    \n",
    "        return \"The dimention of is \" + str(dim)\n",
    "    \n",
    "    "
   ]
  },
  {
   "cell_type": "code",
   "execution_count": 75,
   "id": "a29cc07d",
   "metadata": {},
   "outputs": [
    {
     "data": {
      "text/plain": [
       "'There is a mistake, the dimention should be one and you have 2 dimentions'"
      ]
     },
     "execution_count": 75,
     "metadata": {},
     "output_type": "execute_result"
    }
   ],
   "source": [
    "# Test the dimentions \n",
    "x1 = np.arange(12).reshape((3,4)) \n",
    "x = np.array([2,3,4])   # one dimention\n",
    "compute(x1)"
   ]
  },
  {
   "cell_type": "markdown",
   "id": "ac0ecf14",
   "metadata": {},
   "source": [
    "Exercici 2\n",
    "Crea una funció que et generi un quadrat NxN de nombres aleatoris entre el 0 i el 100."
   ]
  },
  {
   "cell_type": "code",
   "execution_count": 91,
   "id": "57fbe0f0",
   "metadata": {},
   "outputs": [
    {
     "name": "stderr",
     "output_type": "stream",
     "text": [
      "/var/folders/nf/k9lr66x533j8b29kjjrqj1xr0000gn/T/ipykernel_7383/3375760632.py:7: DeprecationWarning: `np.int` is a deprecated alias for the builtin `int`. To silence this warning, use `int` by itself. Doing this will not modify any behavior and is safe. When replacing `np.int`, you may wish to use e.g. `np.int64` or `np.int32` to specify the precision. If you wish to review your current use, check the release note link for additional information.\n",
      "Deprecated in NumPy 1.20; for more details and guidance: https://numpy.org/devdocs/release/1.20.0-notes.html#deprecations\n",
      "  mat = np.matrix(i, dtype = np.int)\n"
     ]
    },
    {
     "data": {
      "text/plain": [
       "matrix([[122]])"
      ]
     },
     "execution_count": 91,
     "metadata": {},
     "output_type": "execute_result"
    }
   ],
   "source": [
    "import random \n",
    "\n",
    "def quadrat():\n",
    "    ran_list = random.randint(0,100)\n",
    "    \n",
    "    for i in range(ran_list):\n",
    "        mat = np.matrix(i, dtype = np.int)\n",
    "        i*=2\n",
    "        \n",
    "    return mat\n",
    "\n",
    "quadrat()"
   ]
  },
  {
   "cell_type": "markdown",
   "id": "3dd4e8ee",
   "metadata": {},
   "source": [
    "Exercici 3\n",
    "Crea una funció que donada una taula de dues dimensions (NxM), et calculi els totals per fila i els totals per columna.\n"
   ]
  },
  {
   "cell_type": "code",
   "execution_count": 104,
   "id": "d36d3813",
   "metadata": {},
   "outputs": [],
   "source": [
    "def total(arr):\n",
    "    arr = arr.shape()\n",
    "    for i in len(arr):\n",
    "        count_row +=1\n",
    "        for j in len(arr):\n",
    "            count_column += 1\n",
    "    return count_row, count_column\n",
    "    \n",
    "    "
   ]
  },
  {
   "cell_type": "code",
   "execution_count": 105,
   "id": "3ab8d263",
   "metadata": {},
   "outputs": [
    {
     "ename": "TypeError",
     "evalue": "'tuple' object is not callable",
     "output_type": "error",
     "traceback": [
      "\u001b[0;31m---------------------------------------------------------------------------\u001b[0m",
      "\u001b[0;31mTypeError\u001b[0m                                 Traceback (most recent call last)",
      "Input \u001b[0;32mIn [105]\u001b[0m, in \u001b[0;36m<cell line: 3>\u001b[0;34m()\u001b[0m\n\u001b[1;32m      1\u001b[0m y \u001b[38;5;241m=\u001b[39m np\u001b[38;5;241m.\u001b[39marray([\u001b[38;5;241m23\u001b[39m,\u001b[38;5;241m11\u001b[39m,\u001b[38;5;241m33\u001b[39m,\u001b[38;5;241m56\u001b[39m])\n\u001b[1;32m      2\u001b[0m z \u001b[38;5;241m=\u001b[39m np\u001b[38;5;241m.\u001b[39marray([\u001b[38;5;241m2\u001b[39m,\u001b[38;5;241m3\u001b[39m])\n\u001b[0;32m----> 3\u001b[0m \u001b[43mtotal\u001b[49m\u001b[43m(\u001b[49m\u001b[43my\u001b[49m\u001b[43m)\u001b[49m\n",
      "Input \u001b[0;32mIn [104]\u001b[0m, in \u001b[0;36mtotal\u001b[0;34m(arr)\u001b[0m\n\u001b[1;32m      1\u001b[0m \u001b[38;5;28;01mdef\u001b[39;00m \u001b[38;5;21mtotal\u001b[39m(arr):\n\u001b[0;32m----> 2\u001b[0m     arr \u001b[38;5;241m=\u001b[39m \u001b[43marr\u001b[49m\u001b[38;5;241;43m.\u001b[39;49m\u001b[43mshape\u001b[49m\u001b[43m(\u001b[49m\u001b[43m)\u001b[49m\n\u001b[1;32m      3\u001b[0m     \u001b[38;5;28;01mfor\u001b[39;00m i \u001b[38;5;129;01min\u001b[39;00m \u001b[38;5;28mlen\u001b[39m(arr):\n\u001b[1;32m      4\u001b[0m         count_row \u001b[38;5;241m+\u001b[39m\u001b[38;5;241m=\u001b[39m\u001b[38;5;241m1\u001b[39m\n",
      "\u001b[0;31mTypeError\u001b[0m: 'tuple' object is not callable"
     ]
    }
   ],
   "source": [
    "y = np.array([23,11,33,56])\n",
    "z = np.array([2,3])\n",
    "total(y)"
   ]
  },
  {
   "cell_type": "markdown",
   "id": "d1dd057a",
   "metadata": {},
   "source": [
    "Exercici 4\n",
    "Implementa manualment una funció que calculi el coeficient de correlació. Informa-te'n sobre els seus usos i interpretació."
   ]
  },
  {
   "cell_type": "code",
   "execution_count": 93,
   "id": "cee8249d",
   "metadata": {},
   "outputs": [],
   "source": [
    "def corr(x, y):\n",
    "    # the two arrays must have the same lenght in order to work\n",
    "    coeff = np.corrcoef(x,y)   # returns the correlation matrix which is a two-dimensional array with the correlation coefficients\n",
    "    return coeff\n",
    "    "
   ]
  },
  {
   "cell_type": "code",
   "execution_count": 94,
   "id": "bae226f2",
   "metadata": {},
   "outputs": [
    {
     "data": {
      "text/plain": [
       "array([[1.       , 0.2201412],\n",
       "       [0.2201412, 1.       ]])"
      ]
     },
     "execution_count": 94,
     "metadata": {},
     "output_type": "execute_result"
    }
   ],
   "source": [
    "x = np.arange(10, 20)    # we write an array of ten numbers between 10 and 20 inclusive  \n",
    "y = np.array([23,11,33,56,72,98,85,18,91,4]) \n",
    "corr(x,y)"
   ]
  }
 ],
 "metadata": {
  "kernelspec": {
   "display_name": "Python 3 (ipykernel)",
   "language": "python",
   "name": "python3"
  },
  "language_info": {
   "codemirror_mode": {
    "name": "ipython",
    "version": 3
   },
   "file_extension": ".py",
   "mimetype": "text/x-python",
   "name": "python",
   "nbconvert_exporter": "python",
   "pygments_lexer": "ipython3",
   "version": "3.9.12"
  }
 },
 "nbformat": 4,
 "nbformat_minor": 5
}
